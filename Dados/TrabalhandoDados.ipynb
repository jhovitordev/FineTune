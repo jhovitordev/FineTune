{
 "cells": [
  {
   "cell_type": "markdown",
   "id": "879b6477-1d0c-43a0-9c4c-e52952fa6502",
   "metadata": {},
   "source": [
    "## Preparação dos Dados para realizar o Ajuste Fino\n"
   ]
  },
  {
   "cell_type": "code",
   "execution_count": 2,
   "id": "d47deb33-9858-4276-a8b9-aefebc7e2a91",
   "metadata": {},
   "outputs": [],
   "source": [
    "#importando as funções importantes para trabalhar com os dados\n",
    "from sklearn.model_selection import train_test_split\n",
    "from datasets import load_dataset, Dataset\n",
    "import json"
   ]
  },
  {
   "cell_type": "markdown",
   "id": "17a68d24-8b31-4422-838c-cc1ed2dafe4b",
   "metadata": {},
   "source": [
    "##### Preparando os dados\n",
    "\n",
    "Quando vamos realizar um Fine-Tune, antes de qualquer coisa, precisamos preparar os dados que serão utilizados para realizar o ajuste do modelo.\n",
    "\n",
    "Os dados utilizados neste algoritmo foram criados com base nos beneficios oferecidos pela Secretaria de Estado de Desenvolvimento Social de Goiás. Essas informações podem ser consultadas neste [link](\"https://goias.gov.br/social/#\").\n",
    "\n",
    "O arquivo na extensão .json que foi utilizado está disponivel para download neste [link]().\n",
    "\n",
    "Extrai as informações do arquivo e atribui á um dicionario\n",
    "\n",
    "Etiquetei cada prompt com o nome do programa correspondente para melhorar a identificação do programa que se refere cada pergunta"
   ]
  },
  {
   "cell_type": "code",
   "execution_count": null,
   "id": "137e64b5-0b94-49a7-be28-dd83e1e0238d",
   "metadata": {},
   "outputs": [],
   "source": [
    "dataset_por_programa = {} #criando um dicionario para receber as informações do arquivo json \"relacionados3.json\"\n",
    "\n",
    "# Carregar o arquivo JSON\n",
    "with open('relacionados3.json', 'r', encoding='utf-8') as file:\n",
    "    data = json.load(file)\n",
    "\n",
    "# Percorrer cada programa no arquivo JSON\n",
    "for programa, lista_perguntas_respostas in data.items():\n",
    "    # Criar uma entrada para o programa no dicionário\n",
    "    dataset_por_programa[programa] = []\n",
    "    # Percorrer cada item (dicionário) etiquetar prompts e completions\n",
    "    for item in lista_perguntas_respostas:\n",
    "        dataset_por_programa[programa].append({'prompt': f\"{programa} : {item['prompt']}\", 'completion': item['completion']})\n"
   ]
  },
  {
   "cell_type": "code",
   "execution_count": null,
   "id": "3514d91d-7aa5-42fb-ba49-dbf2e4202b42",
   "metadata": {},
   "outputs": [],
   "source": [
    "print(dataset_por_programa)"
   ]
  },
  {
   "cell_type": "markdown",
   "id": "b87bc583-b7e2-4271-ad28-ebe7bf8fc3ce",
   "metadata": {},
   "source": [
    "Neste código, estamos iterando sobre o dicionário e extraindo as perguntas e respostas para cada programa. Em seguida, estruturamos essas perguntas e respostas em pares e os adicionamos à lista perguntas_respostas."
   ]
  },
  {
   "cell_type": "code",
   "execution_count": null,
   "id": "664d3232-27b9-458a-8325-42ef75fbf801",
   "metadata": {},
   "outputs": [],
   "source": [
    "perguntas_respostas = []\n",
    "\n",
    "for programa, lista_perguntas in dataset_por_programa.items():\n",
    "    for pergunta_resposta in lista_perguntas:\n",
    "        pergunta = pergunta_resposta[\"prompt\"]\n",
    "        respostas = pergunta_resposta[\"completion\"]\n",
    "        for resposta in respostas:\n",
    "            # Adiciona o par pergunta-resposta à lista\n",
    "            perguntas_respostas.append((pergunta, resposta))\n",
    "\n",
    "print(perguntas_respostas[:5])  # Exibe os primeiros 5 pares pergunta-resposta"
   ]
  },
  {
   "cell_type": "markdown",
   "id": "f83a2078-dc08-4fd7-a69d-f8771baf9cf4",
   "metadata": {},
   "source": [
    "### Testando fazer com csv"
   ]
  },
  {
   "cell_type": "code",
   "execution_count": null,
   "id": "9309e53f-2987-45ac-9f8d-7d1f5f9b390c",
   "metadata": {},
   "outputs": [],
   "source": [
    "!pip install pandas\n",
    "import pandas as pd"
   ]
  },
  {
   "cell_type": "code",
   "execution_count": null,
   "id": "4305a9fd-7d78-45f5-9d76-5d92a0fed7aa",
   "metadata": {},
   "outputs": [],
   "source": [
    "# Carregar o arquivo CSV\n",
    "df = pd.read_csv('dataset.csv')\n",
    "\n",
    "# Dividir o conjunto de dados em conjuntos de treinamento e teste\n",
    "train_df, test_df = train_test_split(df, test_size=0.2, random_state=42)\n",
    "\n",
    "# Salvar os conjuntos de treinamento e teste em novos arquivos CSV\n",
    "train_df.to_csv('treino.csv', index=False)\n",
    "test_df.to_csv('teste.csv', index=False)"
   ]
  }
 ],
 "metadata": {
  "kernelspec": {
   "display_name": "Python 3 (ipykernel)",
   "language": "python",
   "name": "python3"
  },
  "language_info": {
   "codemirror_mode": {
    "name": "ipython",
    "version": 3
   },
   "file_extension": ".py",
   "mimetype": "text/x-python",
   "name": "python",
   "nbconvert_exporter": "python",
   "pygments_lexer": "ipython3",
   "version": "3.12.2"
  }
 },
 "nbformat": 4,
 "nbformat_minor": 5
}
