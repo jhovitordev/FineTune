{
 "cells": [
  {
   "cell_type": "markdown",
   "id": "879b6477-1d0c-43a0-9c4c-e52952fa6502",
   "metadata": {},
   "source": [
    "## Ajuste Fino de um Modelo de IA Generativa para Tarefas de Pergunta e Respostas.\n",
    "\n",
    "Neste notebook, irei trabalhar com dados extraídos do site oficial da Secretaria de Estado de Desenvolvimento Social de Goiás, com o objetivo de ajustar um modelo pré-treinado para lidar com perguntas e respostas relacionadas aos programas e benefícios oferecidos pela secretária. Para se adequar com a nossa necessidade, o modelo passará por um processo de ajuste fino. Primeiramente, iremos realizar um ajuste fino (Fine Tune, em inglês) total, onde todas as camadas do modelo pré-treinado serão modificadas, e depois apresentaremos o método PEFT (Ajuste Fino Eficiente de Parâmetros) que gasta menos recursos computacionais, e modifica apenas algumas camadas do modelo, conseguindo assim que ele retenha o conhecimento que já tem e evite o esquecimento catastrófico. Ao final, avaliaremos a precisão dos  dois modelos ajustados e determinaremos sua adequação para as tarefas definidas."
   ]
  },
  {
   "cell_type": "markdown",
   "id": "a6418db8-8344-4055-9abc-8365430be0f5",
   "metadata": {},
   "source": [
    "##### Baixando bibliotecas necessárias:\n",
    "\n",
    "- transformers : A bibilioteca Transformers pode ser entendida como uma ferramenta poderosa para trabalhar com Processamento de Linguagem Natural \n",
    "- Datasets :  A biblioteca Datasets, também desenvolvida pela Hugging Face, é uma coleção de conjuntos de dados prontos para uso em uma variedade de tarefas de processamento de linguagem natural (PLN) e aprendizado de máquina (ML).\n",
    "- Evaluate: Com essa biblioteca você ganha acesso a dezenas de métodos de avaliação para diferentes modelos, o que fdacilita a acilita a avaliação de modelos de machine learning e datasets.\n"
   ]
  },
  {
   "cell_type": "code",
   "execution_count": null,
   "id": "16e25f18-da78-4879-965f-5d727b50cf69",
   "metadata": {},
   "outputs": [],
   "source": [
    "#baixando arquivos necessários\n",
    "\n",
    "!pip install transformers datasets evaluate"
   ]
  },
  {
   "cell_type": "code",
   "execution_count": 69,
   "id": "d47deb33-9858-4276-a8b9-aefebc7e2a91",
   "metadata": {},
   "outputs": [],
   "source": [
    "#importando as funções importantes para o fione-tune\n",
    "from transformers import AutoTokenizer, pipeline, AutoModelForPreTraining, Trainer, TrainingArguments, DataCollatorForLanguageModeling\n",
    "from datasets import load_dataset\n",
    "import json"
   ]
  },
  {
   "cell_type": "markdown",
   "id": "17a68d24-8b31-4422-838c-cc1ed2dafe4b",
   "metadata": {},
   "source": [
    "##### Preparando os dados\n",
    "\n",
    "Quando vamos realizar um Fine-Tune, antes de qualquer coisa, precisamos preparar os dados que serão utilizados para realizar o ajuste do modelo.\n",
    "\n",
    "Os dados utilizados neste algoritmo foram criados com base nos beneficios oferecidos pela Secretaria de Estado de Desemvolvimento Social de Goiás. Essas informações podem ser consultadas neste [link](\"https://goias.gov.br/social/#\").\n",
    "\n",
    "O arquivo na extensão .json que foi utilizado está disponivel para download neste [link]().\n",
    "\n",
    "Extrai as informações do arquivo e atribui á um dicionario\n",
    "\n",
    "Etiquetei cada prompt com o nome do programa correspondente para melhorar a identificação do programa que se refere cada pergunta"
   ]
  },
  {
   "cell_type": "code",
   "execution_count": 70,
   "id": "137e64b5-0b94-49a7-be28-dd83e1e0238d",
   "metadata": {},
   "outputs": [],
   "source": [
    "dataset_por_programa = {} #criando um dicionario para receber as informações do arquivo json \"relacionados3.json\"\n",
    "\n",
    "# Carregar o arquivo JSON\n",
    "with open('relacionados3.json', 'r', encoding='utf-8') as file:\n",
    "    data = json.load(file)\n",
    "\n",
    "# Percorrer cada programa no arquivo JSON\n",
    "for programa, lista_perguntas_respostas in data.items():\n",
    "    # Criar uma entrada para o programa no dicionário\n",
    "    dataset_por_programa[programa] = []\n",
    "    # Percorrer cada item (dicionário) etiquetar prompts e completions\n",
    "    for item in lista_perguntas_respostas:\n",
    "        dataset_por_programa[programa].append({'prompt': f\"{programa} : {item['prompt']}\", 'completion': item['completion']})\n"
   ]
  },
  {
   "cell_type": "markdown",
   "id": "b87bc583-b7e2-4271-ad28-ebe7bf8fc3ce",
   "metadata": {},
   "source": [
    "Neste código, estamos iterando sobre o dicionário e extraindo as perguntas e respostas para cada programa. Em seguida, estruturamos essas perguntas e respostas em pares e os adicionamos à lista perguntas_respostas."
   ]
  },
  {
   "cell_type": "code",
   "execution_count": 68,
   "id": "664d3232-27b9-458a-8325-42ef75fbf801",
   "metadata": {},
   "outputs": [
    {
     "name": "stdout",
     "output_type": "stream",
     "text": [
      "[('Programa de Água e Energia : Pode explicar o que é o Programa de Água e Energia?', 'É um programa destinado a auxiliar no pagamento das tarifas de energia elétrica, água tratada e coleta de esgotamento sanitário.'), ('Programa de Água e Energia : Pode explicar o que é o Programa de Água e Energia?', 'Trata-se de um auxílio voltado para custear as despesas com energia elétrica, água tratada e coleta de esgoto.'), ('Programa de Água e Energia : Pode explicar o que é o Programa de Água e Energia?', 'Consiste em um suporte financeiro direcionado para ajudar nos gastos relacionados à energia elétrica, água tratada e coleta de esgoto.'), ('Programa de Água e Energia : Pode explicar o que é o Programa de Água e Energia?', 'O Auxílio destina-se a subsidiar as despesas com energia elétrica, água tratada e coleta de esgoto sanitário.'), ('Programa de Água e Energia : Pode explicar o que é o Programa de Água e Energia?', 'Este programa tem como objetivo oferecer assistência financeira para despesas como energia elétrica, água tratada e coleta de esgoto.')]\n"
     ]
    }
   ],
   "source": [
    "perguntas_respostas = []\n",
    "\n",
    "for programa, lista_perguntas in dataset_por_programa.items():\n",
    "    for pergunta_resposta in lista_perguntas:\n",
    "        pergunta = pergunta_resposta[\"prompt\"]\n",
    "        respostas = pergunta_resposta[\"completion\"]\n",
    "        for resposta in respostas:\n",
    "            # Adiciona o par pergunta-resposta à lista\n",
    "            perguntas_respostas.append((pergunta, resposta))\n",
    "\n",
    "print(perguntas_respostas[:5])  # Exibe os primeiros 5 pares pergunta-resposta"
   ]
  },
  {
   "cell_type": "code",
   "execution_count": null,
   "id": "613ce9e8-a376-4169-9353-c93d908a5fbc",
   "metadata": {},
   "outputs": [],
   "source": []
  },
  {
   "cell_type": "markdown",
   "id": "f83a2078-dc08-4fd7-a69d-f8771baf9cf4",
   "metadata": {},
   "source": [
    "### Testando fazer com csv"
   ]
  },
  {
   "cell_type": "code",
   "execution_count": 71,
   "id": "9309e53f-2987-45ac-9f8d-7d1f5f9b390c",
   "metadata": {},
   "outputs": [
    {
     "name": "stdout",
     "output_type": "stream",
     "text": [
      "Requirement already satisfied: pandas in c:\\users\\joao.calmeida\\appdata\\local\\programs\\python\\python312\\lib\\site-packages (2.2.1)\n",
      "Requirement already satisfied: numpy<2,>=1.26.0 in c:\\users\\joao.calmeida\\appdata\\local\\programs\\python\\python312\\lib\\site-packages (from pandas) (1.26.3)\n",
      "Requirement already satisfied: python-dateutil>=2.8.2 in c:\\users\\joao.calmeida\\appdata\\local\\programs\\python\\python312\\lib\\site-packages (from pandas) (2.8.2)\n",
      "Requirement already satisfied: pytz>=2020.1 in c:\\users\\joao.calmeida\\appdata\\local\\programs\\python\\python312\\lib\\site-packages (from pandas) (2024.1)\n",
      "Requirement already satisfied: tzdata>=2022.7 in c:\\users\\joao.calmeida\\appdata\\local\\programs\\python\\python312\\lib\\site-packages (from pandas) (2023.4)\n",
      "Requirement already satisfied: six>=1.5 in c:\\users\\joao.calmeida\\appdata\\local\\programs\\python\\python312\\lib\\site-packages (from python-dateutil>=2.8.2->pandas) (1.16.0)\n"
     ]
    }
   ],
   "source": [
    "!pip install pandas\n",
    "import pandas as pd\n",
    "\n",
    "df = pd.DataFrame(perguntas_respostas, columns=['pergunta', 'resposta'])"
   ]
  },
  {
   "cell_type": "code",
   "execution_count": 72,
   "id": "bd7d9380-9f52-4274-80c1-870afc1da92e",
   "metadata": {},
   "outputs": [],
   "source": [
    "df.to_csv(\"dataset.csv\", index=False)"
   ]
  },
  {
   "cell_type": "code",
   "execution_count": 73,
   "id": "a23a7031-2c67-4f89-a862-facb9ebddc75",
   "metadata": {},
   "outputs": [
    {
     "data": {
      "application/vnd.jupyter.widget-view+json": {
       "model_id": "bd271115129c43d38025c7722f48b710",
       "version_major": 2,
       "version_minor": 0
      },
      "text/plain": [
       "Generating train split: 0 examples [00:00, ? examples/s]"
      ]
     },
     "metadata": {},
     "output_type": "display_data"
    },
    {
     "name": "stderr",
     "output_type": "stream",
     "text": [
      "C:\\Users\\joao.calmeida\\AppData\\Local\\Programs\\Python\\Python312\\Lib\\site-packages\\datasets\\download\\streaming_download_manager.py:784: FutureWarning: The 'verbose' keyword in pd.read_csv is deprecated and will be removed in a future version.\n",
      "  return pd.read_csv(xopen(filepath_or_buffer, \"rb\", download_config=download_config), **kwargs)\n"
     ]
    }
   ],
   "source": [
    "dataset = load_dataset(\"csv\", data_files = 'dataset.csv')"
   ]
  },
  {
   "cell_type": "code",
   "execution_count": 74,
   "id": "69cb75cf-8759-4f4d-916d-b8511c5d695e",
   "metadata": {},
   "outputs": [
    {
     "name": "stdout",
     "output_type": "stream",
     "text": [
      "DatasetDict({\n",
      "    train: Dataset({\n",
      "        features: ['pergunta', 'resposta'],\n",
      "        num_rows: 2651\n",
      "    })\n",
      "})\n"
     ]
    }
   ],
   "source": [
    "print(dataset)"
   ]
  },
  {
   "cell_type": "code",
   "execution_count": null,
   "id": "403cf36c-21f5-4721-bfdf-9ddc3016dca0",
   "metadata": {},
   "outputs": [],
   "source": []
  }
 ],
 "metadata": {
  "kernelspec": {
   "display_name": "Python 3 (ipykernel)",
   "language": "python",
   "name": "python3"
  },
  "language_info": {
   "codemirror_mode": {
    "name": "ipython",
    "version": 3
   },
   "file_extension": ".py",
   "mimetype": "text/x-python",
   "name": "python",
   "nbconvert_exporter": "python",
   "pygments_lexer": "ipython3",
   "version": "3.12.2"
  }
 },
 "nbformat": 4,
 "nbformat_minor": 5
}
