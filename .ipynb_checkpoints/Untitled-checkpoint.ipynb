{
 "cells": [
  {
   "cell_type": "markdown",
   "id": "879b6477-1d0c-43a0-9c4c-e52952fa6502",
   "metadata": {},
   "source": [
    "## Ajuste Fino de um Modelo de IA Generativa para Tarefas de Pergunta e Respostas.\n",
    "\n",
    "Neste notebook, irei trabalhar com dados extraídos do site oficial da Secretaria de Estado de Desenvolvimento Social de Goiás, com o objetivo de ajustar um modelo pré-treinado para lidar com perguntas e respostas relacionadas aos programas e benefícios oferecidos pela secretária. Para se adequar com a nossa necessidade, o modelo passará por um processo de ajuste fino. Primeiramente, iremos realizar um ajuste fino (Fine Tune, em inglês) total, onde todas as camadas do modelo pré-treinado serão modificadas, e depois apresentaremos o método PEFT (Ajuste Fino Eficiente de Parâmetros) que gasta menos recursos computacionais, e modifica apenas algumas camadas do modelo, conseguindo assim que ele retenha o conhecimento que já tem e evite o esquecimento catastrófico. Ao final, avaliaremos a precisão dos  dois modelos ajustados e determinaremos sua adequação para as tarefas definidas."
   ]
  },
  {
   "cell_type": "markdown",
   "id": "a6418db8-8344-4055-9abc-8365430be0f5",
   "metadata": {},
   "source": [
    "##### Baixando bibliotecas necessárias:\n",
    "\n",
    "- transformers : A bibilioteca Transformers pode ser entendida como uma ferramenta poderosa para trabalhar com Processamento de Linguagem Natural \n",
    "- Datasets :  A biblioteca Datasets, também desenvolvida pela Hugging Face, é uma coleção de conjuntos de dados prontos para uso em uma variedade de tarefas de processamento de linguagem natural (PLN) e aprendizado de máquina (ML).\n",
    "- Evaluate: Com essa biblioteca você ganha acesso a dezenas de métodos de avaliação para diferentes modelos, o que fdacilita a acilita a avaliação de modelos de machine learning e datasets.\n"
   ]
  },
  {
   "cell_type": "code",
   "execution_count": 1,
   "id": "16e25f18-da78-4879-965f-5d727b50cf69",
   "metadata": {
    "scrolled": true
   },
   "outputs": [
    {
     "name": "stdout",
     "output_type": "stream",
     "text": [
      "Requirement already satisfied: transformers in c:\\users\\joao.calmeida\\appdata\\local\\programs\\python\\python312\\lib\\site-packages (4.37.1)\n",
      "Requirement already satisfied: datasets in c:\\users\\joao.calmeida\\appdata\\local\\programs\\python\\python312\\lib\\site-packages (2.17.0)\n",
      "Requirement already satisfied: evaluate in c:\\users\\joao.calmeida\\appdata\\local\\programs\\python\\python312\\lib\\site-packages (0.4.1)\n",
      "Requirement already satisfied: pandas in c:\\users\\joao.calmeida\\appdata\\local\\programs\\python\\python312\\lib\\site-packages (2.2.2)\n",
      "Requirement already satisfied: filelock in c:\\users\\joao.calmeida\\appdata\\local\\programs\\python\\python312\\lib\\site-packages (from transformers) (3.13.1)\n",
      "Requirement already satisfied: huggingface-hub<1.0,>=0.19.3 in c:\\users\\joao.calmeida\\appdata\\local\\programs\\python\\python312\\lib\\site-packages (from transformers) (0.20.3)\n",
      "Requirement already satisfied: numpy>=1.17 in c:\\users\\joao.calmeida\\appdata\\local\\programs\\python\\python312\\lib\\site-packages (from transformers) (1.26.3)\n",
      "Requirement already satisfied: packaging>=20.0 in c:\\users\\joao.calmeida\\appdata\\local\\programs\\python\\python312\\lib\\site-packages (from transformers) (23.2)\n",
      "Requirement already satisfied: pyyaml>=5.1 in c:\\users\\joao.calmeida\\appdata\\local\\programs\\python\\python312\\lib\\site-packages (from transformers) (6.0.1)\n",
      "Requirement already satisfied: regex!=2019.12.17 in c:\\users\\joao.calmeida\\appdata\\local\\programs\\python\\python312\\lib\\site-packages (from transformers) (2023.12.25)\n",
      "Requirement already satisfied: requests in c:\\users\\joao.calmeida\\appdata\\local\\programs\\python\\python312\\lib\\site-packages (from transformers) (2.31.0)\n",
      "Requirement already satisfied: tokenizers<0.19,>=0.14 in c:\\users\\joao.calmeida\\appdata\\local\\programs\\python\\python312\\lib\\site-packages (from transformers) (0.15.1)\n",
      "Requirement already satisfied: safetensors>=0.3.1 in c:\\users\\joao.calmeida\\appdata\\local\\programs\\python\\python312\\lib\\site-packages (from transformers) (0.4.2)\n",
      "Requirement already satisfied: tqdm>=4.27 in c:\\users\\joao.calmeida\\appdata\\local\\programs\\python\\python312\\lib\\site-packages (from transformers) (4.66.1)\n",
      "Requirement already satisfied: pyarrow>=12.0.0 in c:\\users\\joao.calmeida\\appdata\\local\\programs\\python\\python312\\lib\\site-packages (from datasets) (15.0.0)\n",
      "Requirement already satisfied: pyarrow-hotfix in c:\\users\\joao.calmeida\\appdata\\local\\programs\\python\\python312\\lib\\site-packages (from datasets) (0.6)\n",
      "Requirement already satisfied: dill<0.3.9,>=0.3.0 in c:\\users\\joao.calmeida\\appdata\\local\\programs\\python\\python312\\lib\\site-packages (from datasets) (0.3.7)\n",
      "Requirement already satisfied: xxhash in c:\\users\\joao.calmeida\\appdata\\local\\programs\\python\\python312\\lib\\site-packages (from datasets) (3.4.1)\n",
      "Requirement already satisfied: multiprocess in c:\\users\\joao.calmeida\\appdata\\local\\programs\\python\\python312\\lib\\site-packages (from datasets) (0.70.15)\n",
      "Requirement already satisfied: fsspec<=2023.10.0,>=2023.1.0 in c:\\users\\joao.calmeida\\appdata\\local\\programs\\python\\python312\\lib\\site-packages (from fsspec[http]<=2023.10.0,>=2023.1.0->datasets) (2023.10.0)\n",
      "Requirement already satisfied: aiohttp in c:\\users\\joao.calmeida\\appdata\\local\\programs\\python\\python312\\lib\\site-packages (from datasets) (3.9.3)\n",
      "Requirement already satisfied: responses<0.19 in c:\\users\\joao.calmeida\\appdata\\local\\programs\\python\\python312\\lib\\site-packages (from evaluate) (0.18.0)\n",
      "Requirement already satisfied: python-dateutil>=2.8.2 in c:\\users\\joao.calmeida\\appdata\\local\\programs\\python\\python312\\lib\\site-packages (from pandas) (2.8.2)\n",
      "Requirement already satisfied: pytz>=2020.1 in c:\\users\\joao.calmeida\\appdata\\local\\programs\\python\\python312\\lib\\site-packages (from pandas) (2024.1)\n",
      "Requirement already satisfied: tzdata>=2022.7 in c:\\users\\joao.calmeida\\appdata\\local\\programs\\python\\python312\\lib\\site-packages (from pandas) (2023.4)\n",
      "Requirement already satisfied: aiosignal>=1.1.2 in c:\\users\\joao.calmeida\\appdata\\local\\programs\\python\\python312\\lib\\site-packages (from aiohttp->datasets) (1.3.1)\n",
      "Requirement already satisfied: attrs>=17.3.0 in c:\\users\\joao.calmeida\\appdata\\local\\programs\\python\\python312\\lib\\site-packages (from aiohttp->datasets) (23.2.0)\n",
      "Requirement already satisfied: frozenlist>=1.1.1 in c:\\users\\joao.calmeida\\appdata\\local\\programs\\python\\python312\\lib\\site-packages (from aiohttp->datasets) (1.4.1)\n",
      "Requirement already satisfied: multidict<7.0,>=4.5 in c:\\users\\joao.calmeida\\appdata\\local\\programs\\python\\python312\\lib\\site-packages (from aiohttp->datasets) (6.0.5)\n",
      "Requirement already satisfied: yarl<2.0,>=1.0 in c:\\users\\joao.calmeida\\appdata\\local\\programs\\python\\python312\\lib\\site-packages (from aiohttp->datasets) (1.9.4)\n",
      "Requirement already satisfied: typing-extensions>=3.7.4.3 in c:\\users\\joao.calmeida\\appdata\\local\\programs\\python\\python312\\lib\\site-packages (from huggingface-hub<1.0,>=0.19.3->transformers) (4.9.0)\n",
      "Requirement already satisfied: six>=1.5 in c:\\users\\joao.calmeida\\appdata\\local\\programs\\python\\python312\\lib\\site-packages (from python-dateutil>=2.8.2->pandas) (1.16.0)\n",
      "Requirement already satisfied: charset-normalizer<4,>=2 in c:\\users\\joao.calmeida\\appdata\\local\\programs\\python\\python312\\lib\\site-packages (from requests->transformers) (3.3.2)\n",
      "Requirement already satisfied: idna<4,>=2.5 in c:\\users\\joao.calmeida\\appdata\\local\\programs\\python\\python312\\lib\\site-packages (from requests->transformers) (3.6)\n",
      "Requirement already satisfied: urllib3<3,>=1.21.1 in c:\\users\\joao.calmeida\\appdata\\local\\programs\\python\\python312\\lib\\site-packages (from requests->transformers) (2.1.0)\n",
      "Requirement already satisfied: certifi>=2017.4.17 in c:\\users\\joao.calmeida\\appdata\\local\\programs\\python\\python312\\lib\\site-packages (from requests->transformers) (2023.11.17)\n",
      "Requirement already satisfied: colorama in c:\\users\\joao.calmeida\\appdata\\local\\programs\\python\\python312\\lib\\site-packages (from tqdm>=4.27->transformers) (0.4.6)\n",
      "Requirement already satisfied: accelerate in c:\\users\\joao.calmeida\\appdata\\local\\programs\\python\\python312\\lib\\site-packages (0.30.0)\n",
      "Requirement already satisfied: numpy>=1.17 in c:\\users\\joao.calmeida\\appdata\\local\\programs\\python\\python312\\lib\\site-packages (from accelerate) (1.26.3)\n",
      "Requirement already satisfied: packaging>=20.0 in c:\\users\\joao.calmeida\\appdata\\local\\programs\\python\\python312\\lib\\site-packages (from accelerate) (23.2)\n",
      "Requirement already satisfied: psutil in c:\\users\\joao.calmeida\\appdata\\local\\programs\\python\\python312\\lib\\site-packages (from accelerate) (5.9.8)\n",
      "Requirement already satisfied: pyyaml in c:\\users\\joao.calmeida\\appdata\\local\\programs\\python\\python312\\lib\\site-packages (from accelerate) (6.0.1)\n",
      "Requirement already satisfied: torch>=1.10.0 in c:\\users\\joao.calmeida\\appdata\\local\\programs\\python\\python312\\lib\\site-packages (from accelerate) (2.2.0)\n",
      "Requirement already satisfied: huggingface-hub in c:\\users\\joao.calmeida\\appdata\\local\\programs\\python\\python312\\lib\\site-packages (from accelerate) (0.20.3)\n",
      "Requirement already satisfied: safetensors>=0.3.1 in c:\\users\\joao.calmeida\\appdata\\local\\programs\\python\\python312\\lib\\site-packages (from accelerate) (0.4.2)\n",
      "Requirement already satisfied: filelock in c:\\users\\joao.calmeida\\appdata\\local\\programs\\python\\python312\\lib\\site-packages (from torch>=1.10.0->accelerate) (3.13.1)\n",
      "Requirement already satisfied: typing-extensions>=4.8.0 in c:\\users\\joao.calmeida\\appdata\\local\\programs\\python\\python312\\lib\\site-packages (from torch>=1.10.0->accelerate) (4.9.0)\n",
      "Requirement already satisfied: sympy in c:\\users\\joao.calmeida\\appdata\\local\\programs\\python\\python312\\lib\\site-packages (from torch>=1.10.0->accelerate) (1.12)\n",
      "Requirement already satisfied: networkx in c:\\users\\joao.calmeida\\appdata\\local\\programs\\python\\python312\\lib\\site-packages (from torch>=1.10.0->accelerate) (3.2.1)\n",
      "Requirement already satisfied: jinja2 in c:\\users\\joao.calmeida\\appdata\\local\\programs\\python\\python312\\lib\\site-packages (from torch>=1.10.0->accelerate) (3.1.3)\n",
      "Requirement already satisfied: fsspec in c:\\users\\joao.calmeida\\appdata\\local\\programs\\python\\python312\\lib\\site-packages (from torch>=1.10.0->accelerate) (2023.10.0)\n",
      "Requirement already satisfied: requests in c:\\users\\joao.calmeida\\appdata\\local\\programs\\python\\python312\\lib\\site-packages (from huggingface-hub->accelerate) (2.31.0)\n",
      "Requirement already satisfied: tqdm>=4.42.1 in c:\\users\\joao.calmeida\\appdata\\local\\programs\\python\\python312\\lib\\site-packages (from huggingface-hub->accelerate) (4.66.1)\n",
      "Requirement already satisfied: colorama in c:\\users\\joao.calmeida\\appdata\\local\\programs\\python\\python312\\lib\\site-packages (from tqdm>=4.42.1->huggingface-hub->accelerate) (0.4.6)\n",
      "Requirement already satisfied: MarkupSafe>=2.0 in c:\\users\\joao.calmeida\\appdata\\local\\programs\\python\\python312\\lib\\site-packages (from jinja2->torch>=1.10.0->accelerate) (2.1.4)\n",
      "Requirement already satisfied: charset-normalizer<4,>=2 in c:\\users\\joao.calmeida\\appdata\\local\\programs\\python\\python312\\lib\\site-packages (from requests->huggingface-hub->accelerate) (3.3.2)\n",
      "Requirement already satisfied: idna<4,>=2.5 in c:\\users\\joao.calmeida\\appdata\\local\\programs\\python\\python312\\lib\\site-packages (from requests->huggingface-hub->accelerate) (3.6)\n",
      "Requirement already satisfied: urllib3<3,>=1.21.1 in c:\\users\\joao.calmeida\\appdata\\local\\programs\\python\\python312\\lib\\site-packages (from requests->huggingface-hub->accelerate) (2.1.0)\n",
      "Requirement already satisfied: certifi>=2017.4.17 in c:\\users\\joao.calmeida\\appdata\\local\\programs\\python\\python312\\lib\\site-packages (from requests->huggingface-hub->accelerate) (2023.11.17)\n",
      "Requirement already satisfied: mpmath>=0.19 in c:\\users\\joao.calmeida\\appdata\\local\\programs\\python\\python312\\lib\\site-packages (from sympy->torch>=1.10.0->accelerate) (1.3.0)\n",
      "Requirement already satisfied: transformers[torch] in c:\\users\\joao.calmeida\\appdata\\local\\programs\\python\\python312\\lib\\site-packages (4.37.1)\n",
      "Requirement already satisfied: filelock in c:\\users\\joao.calmeida\\appdata\\local\\programs\\python\\python312\\lib\\site-packages (from transformers[torch]) (3.13.1)\n",
      "Requirement already satisfied: huggingface-hub<1.0,>=0.19.3 in c:\\users\\joao.calmeida\\appdata\\local\\programs\\python\\python312\\lib\\site-packages (from transformers[torch]) (0.20.3)\n",
      "Requirement already satisfied: numpy>=1.17 in c:\\users\\joao.calmeida\\appdata\\local\\programs\\python\\python312\\lib\\site-packages (from transformers[torch]) (1.26.3)\n",
      "Requirement already satisfied: packaging>=20.0 in c:\\users\\joao.calmeida\\appdata\\local\\programs\\python\\python312\\lib\\site-packages (from transformers[torch]) (23.2)\n",
      "Requirement already satisfied: pyyaml>=5.1 in c:\\users\\joao.calmeida\\appdata\\local\\programs\\python\\python312\\lib\\site-packages (from transformers[torch]) (6.0.1)\n",
      "Requirement already satisfied: regex!=2019.12.17 in c:\\users\\joao.calmeida\\appdata\\local\\programs\\python\\python312\\lib\\site-packages (from transformers[torch]) (2023.12.25)\n",
      "Requirement already satisfied: requests in c:\\users\\joao.calmeida\\appdata\\local\\programs\\python\\python312\\lib\\site-packages (from transformers[torch]) (2.31.0)\n",
      "Requirement already satisfied: tokenizers<0.19,>=0.14 in c:\\users\\joao.calmeida\\appdata\\local\\programs\\python\\python312\\lib\\site-packages (from transformers[torch]) (0.15.1)\n",
      "Requirement already satisfied: safetensors>=0.3.1 in c:\\users\\joao.calmeida\\appdata\\local\\programs\\python\\python312\\lib\\site-packages (from transformers[torch]) (0.4.2)\n",
      "Requirement already satisfied: tqdm>=4.27 in c:\\users\\joao.calmeida\\appdata\\local\\programs\\python\\python312\\lib\\site-packages (from transformers[torch]) (4.66.1)\n",
      "Requirement already satisfied: torch!=1.12.0,>=1.11 in c:\\users\\joao.calmeida\\appdata\\local\\programs\\python\\python312\\lib\\site-packages (from transformers[torch]) (2.2.0)\n",
      "Requirement already satisfied: accelerate>=0.21.0 in c:\\users\\joao.calmeida\\appdata\\local\\programs\\python\\python312\\lib\\site-packages (from transformers[torch]) (0.30.0)\n",
      "Requirement already satisfied: psutil in c:\\users\\joao.calmeida\\appdata\\local\\programs\\python\\python312\\lib\\site-packages (from accelerate>=0.21.0->transformers[torch]) (5.9.8)\n",
      "Requirement already satisfied: fsspec>=2023.5.0 in c:\\users\\joao.calmeida\\appdata\\local\\programs\\python\\python312\\lib\\site-packages (from huggingface-hub<1.0,>=0.19.3->transformers[torch]) (2023.10.0)\n",
      "Requirement already satisfied: typing-extensions>=3.7.4.3 in c:\\users\\joao.calmeida\\appdata\\local\\programs\\python\\python312\\lib\\site-packages (from huggingface-hub<1.0,>=0.19.3->transformers[torch]) (4.9.0)\n",
      "Requirement already satisfied: sympy in c:\\users\\joao.calmeida\\appdata\\local\\programs\\python\\python312\\lib\\site-packages (from torch!=1.12.0,>=1.11->transformers[torch]) (1.12)\n",
      "Requirement already satisfied: networkx in c:\\users\\joao.calmeida\\appdata\\local\\programs\\python\\python312\\lib\\site-packages (from torch!=1.12.0,>=1.11->transformers[torch]) (3.2.1)\n",
      "Requirement already satisfied: jinja2 in c:\\users\\joao.calmeida\\appdata\\local\\programs\\python\\python312\\lib\\site-packages (from torch!=1.12.0,>=1.11->transformers[torch]) (3.1.3)\n",
      "Requirement already satisfied: colorama in c:\\users\\joao.calmeida\\appdata\\local\\programs\\python\\python312\\lib\\site-packages (from tqdm>=4.27->transformers[torch]) (0.4.6)\n",
      "Requirement already satisfied: charset-normalizer<4,>=2 in c:\\users\\joao.calmeida\\appdata\\local\\programs\\python\\python312\\lib\\site-packages (from requests->transformers[torch]) (3.3.2)\n",
      "Requirement already satisfied: idna<4,>=2.5 in c:\\users\\joao.calmeida\\appdata\\local\\programs\\python\\python312\\lib\\site-packages (from requests->transformers[torch]) (3.6)\n",
      "Requirement already satisfied: urllib3<3,>=1.21.1 in c:\\users\\joao.calmeida\\appdata\\local\\programs\\python\\python312\\lib\\site-packages (from requests->transformers[torch]) (2.1.0)\n",
      "Requirement already satisfied: certifi>=2017.4.17 in c:\\users\\joao.calmeida\\appdata\\local\\programs\\python\\python312\\lib\\site-packages (from requests->transformers[torch]) (2023.11.17)\n",
      "Requirement already satisfied: MarkupSafe>=2.0 in c:\\users\\joao.calmeida\\appdata\\local\\programs\\python\\python312\\lib\\site-packages (from jinja2->torch!=1.12.0,>=1.11->transformers[torch]) (2.1.4)\n",
      "Requirement already satisfied: mpmath>=0.19 in c:\\users\\joao.calmeida\\appdata\\local\\programs\\python\\python312\\lib\\site-packages (from sympy->torch!=1.12.0,>=1.11->transformers[torch]) (1.3.0)\n"
     ]
    }
   ],
   "source": [
    "#baixando arquivos necessários\n",
    "\n",
    "!pip install transformers datasets evaluate pandas\n",
    "!pip install accelerate -U\n",
    "!pip install transformers[torch]"
   ]
  },
  {
   "cell_type": "code",
   "execution_count": 2,
   "id": "d47deb33-9858-4276-a8b9-aefebc7e2a91",
   "metadata": {},
   "outputs": [],
   "source": [
    "#importando as funções importantes para o fione-tune\n",
    "from transformers import AutoTokenizer, pipeline, AutoModelForPreTraining, Trainer, TrainingArguments, DataCollatorForLanguageModeling\n",
    "from datasets import load_dataset, Dataset\n",
    "import pandas as pd\n",
    "import json"
   ]
  },
  {
   "cell_type": "markdown",
   "id": "8a8c306c-78f3-44b9-8e8f-d2648ede0656",
   "metadata": {},
   "source": [
    "##### Escolhendo o modelo\n",
    "é importante escolher qual modelo pre treinaido você quer escolher.\n",
    "\n",
    "iremos usar o bloom"
   ]
  },
  {
   "cell_type": "code",
   "execution_count": 3,
   "id": "4810dcd6-eac7-44cf-bde7-3398d9da8358",
   "metadata": {},
   "outputs": [],
   "source": [
    "#Escolhendo o modelo para realizar \n",
    "model_name = \"bigscience/bloom-560m\"\n",
    "model = AutoModelForPreTraining.from_pretrained(model_name)\n",
    "tokenizer = AutoTokenizer.from_pretrained(model_name)"
   ]
  },
  {
   "cell_type": "markdown",
   "id": "17a68d24-8b31-4422-838c-cc1ed2dafe4b",
   "metadata": {},
   "source": [
    "##### Preparando os dados\n",
    "\n",
    "Quando vamos realizar um Fine-Tune, antes de qualquer coisa, precisamos preparar os dados que serão utilizados para realizar o ajuste do modelo.\n",
    "\n",
    "Os dados utilizados neste algoritmo foram criados com base nos beneficios oferecidos pela Secretaria de Estado de Desenvolvimento Social de Goiás. Essas informações podem ser consultadas neste [link](\"https://goias.gov.br/social/#\").\n",
    "\n",
    "O arquivo na extensão .json que foi utilizado está disponivel para download neste [link]().\n",
    "\n",
    "Extrai as informações do arquivo e atribui á um dicionario\n",
    "\n",
    "Etiquetei cada prompt com o nome do programa correspondente para melhorar a identificação do programa que se refere cada pergunta"
   ]
  },
  {
   "cell_type": "code",
   "execution_count": 4,
   "id": "3341c6db-1341-43aa-80d4-94809f375cf6",
   "metadata": {},
   "outputs": [
    {
     "name": "stdout",
     "output_type": "stream",
     "text": [
      "DatasetDict({\n",
      "    train: Dataset({\n",
      "        features: ['pergunta', 'resposta'],\n",
      "        num_rows: 2120\n",
      "    })\n",
      "    test: Dataset({\n",
      "        features: ['pergunta', 'resposta'],\n",
      "        num_rows: 531\n",
      "    })\n",
      "})\n"
     ]
    }
   ],
   "source": [
    "data_file = {\"train\": \"treino.csv\", \"test\":'teste.csv'}\n",
    "dataSetCompleto = load_dataset(\"csv\", data_files=data_file)\n",
    "\n",
    "#atribuindo a variavel dados de tewste e de treino\n",
    "\n",
    "print(dataSetCompleto)\n",
    "\n",
    "treino = dataSetCompleto['train']\n",
    "teste = dataSetCompleto['test']"
   ]
  },
  {
   "cell_type": "code",
   "execution_count": 5,
   "id": "ef9a3a14-e3bc-4b38-a635-5a0a99bb98da",
   "metadata": {},
   "outputs": [
    {
     "name": "stdout",
     "output_type": "stream",
     "text": [
      "Dataset({\n",
      "    features: ['pergunta', 'resposta'],\n",
      "    num_rows: 2120\n",
      "})\n"
     ]
    }
   ],
   "source": [
    "print(treino)"
   ]
  },
  {
   "cell_type": "code",
   "execution_count": 6,
   "id": "a023626a-7246-4b94-b926-33c4ba938c95",
   "metadata": {},
   "outputs": [],
   "source": [
    "#Aqui criamos uma função para facilitar a tokenização\n",
    "\n",
    "def tokenizar(dados):\n",
    "    sequencia = dados[\"pergunta\"] + \" \" + dados[\"resposta\"]\n",
    "    return tokenizer(sequencia, truncation=True, padding=\"max_length\", max_length=526)\n",
    "\n",
    "#fale sobre o mecanimo de atenção e sobre usar tokenização conjunta ou não"
   ]
  },
  {
   "cell_type": "code",
   "execution_count": 7,
   "id": "5ae0bdda-cbe9-40e9-ab07-6455d3f00df8",
   "metadata": {},
   "outputs": [],
   "source": [
    "#Falar do que cada coisa faz --> map\n",
    "dataset_teste = teste.map(tokenizar)\n",
    "dataset_treino = treino.map(tokenizar)"
   ]
  },
  {
   "cell_type": "code",
   "execution_count": 8,
   "id": "051209cc-b8f1-4b45-be1a-801750606d38",
   "metadata": {},
   "outputs": [
    {
     "name": "stdout",
     "output_type": "stream",
     "text": [
      "Dataset({\n",
      "    features: ['pergunta', 'resposta', 'input_ids', 'attention_mask'],\n",
      "    num_rows: 531\n",
      "})\n"
     ]
    }
   ],
   "source": [
    "print(dataset_teste)"
   ]
  },
  {
   "cell_type": "code",
   "execution_count": null,
   "id": "a0c632ab-edd9-4dca-bd20-6cd71804bb98",
   "metadata": {},
   "outputs": [],
   "source": [
    "print(dataset_teste['pergunta'][0])\n",
    "print(dataset_teste['input_ids'][0])"
   ]
  },
  {
   "cell_type": "code",
   "execution_count": null,
   "id": "994eec51-f894-448d-839b-b3d9ea94ad54",
   "metadata": {},
   "outputs": [],
   "source": [
    "x = tokenizer.decode(dataset_teste['input_ids'][0])\n",
    "print(x)"
   ]
  },
  {
   "cell_type": "code",
   "execution_count": null,
   "id": "2a7c72d2-9499-4e71-8f5f-af318adea229",
   "metadata": {},
   "outputs": [],
   "source": [
    "#configurarndo parametros de treino\n",
    "\n",
    "training_args = TrainingArguments(\n",
    "    output_dir='./modeloBloomAjustado',\n",
    "    evaluation_strategy='epoch',\n",
    "    save_strategy='epoch',\n",
    "    num_train_epochs=3,\n",
    ")"
   ]
  },
  {
   "cell_type": "code",
   "execution_count": null,
   "id": "d617e463-d65a-4ef0-914a-ebcf46a10066",
   "metadata": {},
   "outputs": [],
   "source": [
    "trainer = Trainer(\n",
    "    model=model,\n",
    "    args=training_args,\n",
    "    train_dataset=dataset_treino,\n",
    "    eval_dataset=dataset_teste,\n",
    "    compute_metrics=compute_metrics,\n",
    ")"
   ]
  },
  {
   "cell_type": "code",
   "execution_count": null,
   "id": "35860b41-f4d8-4339-ad5f-9f90389e6f8b",
   "metadata": {},
   "outputs": [],
   "source": [
    "trainer.train()"
   ]
  }
 ],
 "metadata": {
  "kernelspec": {
   "display_name": "Python 3 (ipykernel)",
   "language": "python",
   "name": "python3"
  },
  "language_info": {
   "codemirror_mode": {
    "name": "ipython",
    "version": 3
   },
   "file_extension": ".py",
   "mimetype": "text/x-python",
   "name": "python",
   "nbconvert_exporter": "python",
   "pygments_lexer": "ipython3",
   "version": "3.12.2"
  }
 },
 "nbformat": 4,
 "nbformat_minor": 5
}
